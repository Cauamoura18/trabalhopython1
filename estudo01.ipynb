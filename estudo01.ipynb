{
  "nbformat": 4,
  "nbformat_minor": 0,
  "metadata": {
    "colab": {
      "provenance": [],
      "authorship_tag": "ABX9TyM8urM5hJoR5rKejDL3BNEF",
      "include_colab_link": true
    },
    "kernelspec": {
      "name": "python3",
      "display_name": "Python 3"
    },
    "language_info": {
      "name": "python"
    }
  },
  "cells": [
    {
      "cell_type": "markdown",
      "metadata": {
        "id": "view-in-github",
        "colab_type": "text"
      },
      "source": [
        "<a href=\"https://colab.research.google.com/github/Cauamoura18/trabalhopython1/blob/main/estudo01.ipynb\" target=\"_parent\"><img src=\"https://colab.research.google.com/assets/colab-badge.svg\" alt=\"Open In Colab\"/></a>"
      ]
    },
    {
      "cell_type": "markdown",
      "source": [
        "ESTUDO EM PYTHON"
      ],
      "metadata": {
        "id": "HIcdkbSwCgdV"
      }
    },
    {
      "cell_type": "code",
      "source": [
        "\n",
        "x =int(input('digite um numero: '))\n",
        "y =int(input('digite outro numero: '))\n",
        "s = (x + y)\n",
        "print('A soma é {}'.format (s))"
      ],
      "metadata": {
        "colab": {
          "base_uri": "https://localhost:8080/"
        },
        "id": "c3O650kiFFSG",
        "outputId": "f1b836e4-22a9-4a40-8306-cf5fd97fa786"
      },
      "execution_count": null,
      "outputs": [
        {
          "output_type": "stream",
          "name": "stdout",
          "text": [
            "digite um numero: 9\n",
            "digite outro numero: 7\n",
            "A soma é 16\n"
          ]
        }
      ]
    },
    {
      "cell_type": "code",
      "source": [
        "w = 5\n",
        "t = 5\n",
        "result = (w + t)\n",
        "print (result)"
      ],
      "metadata": {
        "colab": {
          "base_uri": "https://localhost:8080/"
        },
        "id": "eILVIdseRf6e",
        "outputId": "2f61618d-7a82-4346-b527-8efe3b219957"
      },
      "execution_count": null,
      "outputs": [
        {
          "output_type": "stream",
          "name": "stdout",
          "text": [
            "10\n"
          ]
        }
      ]
    },
    {
      "cell_type": "code",
      "source": [
        "\n",
        "n1 = int(input('digite um valor: '))\n",
        "n2 = int(input('digite outro valor:'))\n",
        "s = n1 + n2\n",
        "#print('A soma entre', n1, 'e', n2, 'vale', s)\n",
        "print('a soma entre {} e {} vale {}'.format(n1, n2, s))"
      ],
      "metadata": {
        "colab": {
          "base_uri": "https://localhost:8080/"
        },
        "id": "GJv1fWIsVWYp",
        "outputId": "40b51a5a-3a00-4980-d4b9-6bbbe48d837b"
      },
      "execution_count": null,
      "outputs": [
        {
          "output_type": "stream",
          "name": "stdout",
          "text": [
            "digite um valor: 5\n",
            "digite outro valor:4\n",
            "a soma entre 5 e 4 vale 9\n"
          ]
        }
      ]
    },
    {
      "cell_type": "code",
      "source": [
        "n = (input('digite um valor: '))\n",
        "print(n)"
      ],
      "metadata": {
        "colab": {
          "base_uri": "https://localhost:8080/"
        },
        "id": "WmwfDMMQXMYG",
        "outputId": "15acc808-f3cb-4c16-db1e-b322f8c11de5"
      },
      "execution_count": null,
      "outputs": [
        {
          "output_type": "stream",
          "name": "stdout",
          "text": [
            "digite um valor: 6\n",
            "6\n"
          ]
        }
      ]
    },
    {
      "cell_type": "markdown",
      "source": [
        "ESTUDO 02"
      ],
      "metadata": {
        "id": "L4In1A2ID8NQ"
      }
    },
    {
      "cell_type": "code",
      "source": [
        "x = int(input('digite um valor: '))\n",
        "y = int(input('digite outro valor: '))\n",
        "print ('a soma vale {}'.format(x+y))"
      ],
      "metadata": {
        "colab": {
          "base_uri": "https://localhost:8080/"
        },
        "id": "Aj0yRGIRD9hF",
        "outputId": "075d28d5-474a-45f1-a024-3e79f493d8ca"
      },
      "execution_count": null,
      "outputs": [
        {
          "output_type": "stream",
          "name": "stdout",
          "text": [
            "digite um valor: 4\n",
            "digite outro valor: 3\n",
            "a soma vale 7\n"
          ]
        }
      ]
    },
    {
      "cell_type": "code",
      "source": [
        "a = input('digite algo: ')\n",
        "print('o tipo primitivo desse valor é', type(a))\n",
        "print('so tem espaços?', a.isspace())\n",
        "print('é um numero?',a.isnumeric())\n",
        "print('é alfabetico?', a.isalpha())\n",
        "print('é alfanumerico?', a.isalnum())\n",
        "print('estar em maiusculo?', a.isupper())\n",
        "print ('estar em minusculo?', a.islower())\n",
        "print('estar capitalizado?', a.istitle())"
      ],
      "metadata": {
        "colab": {
          "base_uri": "https://localhost:8080/"
        },
        "id": "S6XvXz-lG8NB",
        "outputId": "94aee72d-e599-461a-c3b5-897c16c51aec"
      },
      "execution_count": null,
      "outputs": [
        {
          "output_type": "stream",
          "name": "stdout",
          "text": [
            "digite algo: Ter\n",
            "o tipo primitivo desse valor é <class 'str'>\n",
            "so tem espaços? False\n",
            "é um numero? False\n",
            "é alfabetico? True\n",
            "é alfanumerico? True\n",
            "estar em maiusculo? False\n",
            "estar em minusculo? False\n",
            "estar capitalizado? True\n"
          ]
        }
      ]
    },
    {
      "cell_type": "code",
      "source": [
        "x = 81\n",
        "y = 2\n",
        "soma = (x + y)\n",
        "sub = (x - y)\n",
        "mult = (x * y)\n",
        "div = (x / y)\n",
        "pot = (x ** y)\n",
        "divint = (x // y)\n",
        "mod = (x % y)\n",
        "raiz_quadrada = (x ** (0.5))\n",
        "\n",
        "print (soma)\n",
        "print (sub)\n",
        "print (mult)\n",
        "print (div)\n",
        "print (pot)\n",
        "print (divint)\n",
        "print (mod)\n",
        "print (raiz_quadrada)\n"
      ],
      "metadata": {
        "colab": {
          "base_uri": "https://localhost:8080/"
        },
        "id": "7DawntncKoNI",
        "outputId": "708885bf-7770-4da9-8e6e-5b17ea974d9c"
      },
      "execution_count": null,
      "outputs": [
        {
          "output_type": "stream",
          "name": "stdout",
          "text": [
            "83\n",
            "79\n",
            "162\n",
            "40.5\n",
            "6561\n",
            "40\n",
            "1\n",
            "9.0\n"
          ]
        }
      ]
    },
    {
      "cell_type": "code",
      "source": [
        "nome = input('digite seu nome: ')\n",
        "print('prazer em te conhecer {:=^10}!'.format(nome))"
      ],
      "metadata": {
        "colab": {
          "base_uri": "https://localhost:8080/"
        },
        "id": "YxJofJ35P98K",
        "outputId": "2a54f224-5f95-4cd5-f639-0a7891e64bf0"
      },
      "execution_count": null,
      "outputs": [
        {
          "output_type": "stream",
          "name": "stdout",
          "text": [
            "digite seu nome: caua\n",
            "prazer em te conhecer ===caua===!\n"
          ]
        }
      ]
    },
    {
      "cell_type": "code",
      "source": [
        "x = int(input('um valor: '))\n",
        "y = int(input('outro valor:))"
      ],
      "metadata": {
        "id": "SKfglNhLQ_nN"
      },
      "execution_count": null,
      "outputs": []
    },
    {
      "cell_type": "markdown",
      "source": [
        "AULA 3"
      ],
      "metadata": {
        "id": "cm-su-KQPNUP"
      }
    },
    {
      "cell_type": "code",
      "source": [
        "x = int(input('digite um numero: '))\n",
        "print ('analisando o valor {}, seu antecessor é {} e o sucessor é {}'. format(x, (x -1), (x+1)))"
      ],
      "metadata": {
        "colab": {
          "base_uri": "https://localhost:8080/"
        },
        "id": "gekOa02IOzjj",
        "outputId": "cde4c6db-278e-4824-ce43-ec484d4047a4"
      },
      "execution_count": null,
      "outputs": [
        {
          "output_type": "stream",
          "name": "stdout",
          "text": [
            "digite um numero: 7\n",
            "analisando o valor 7, seu antecessor é 6 e o sucessor é 8\n"
          ]
        }
      ]
    },
    {
      "cell_type": "code",
      "source": [
        "x = int(input('digite um numero: '))\n",
        "print('analisando o numero {}, seu dobro é {}, seu triplo é {} e sua raiz quadrada é {:.2f}'. format(x, (x*2), (x*3), (x**(0.5))))"
      ],
      "metadata": {
        "colab": {
          "base_uri": "https://localhost:8080/"
        },
        "id": "y1K5uBCvQllb",
        "outputId": "93fcb95e-8872-43ab-e495-f5a688ec15fa"
      },
      "execution_count": null,
      "outputs": [
        {
          "output_type": "stream",
          "name": "stdout",
          "text": [
            "digite um numero: 128\n",
            "analisando o numero 128, seu dobro é 256, seu triplo é 384 e sua raiz quadrada é 11.31\n"
          ]
        }
      ]
    },
    {
      "cell_type": "code",
      "source": [
        "x = float(input('digite a primeira nota: '))\n",
        "y = float(input('digite a 2 nota: '))\n",
        "media = (x + y) /2\n",
        "print ('A media entre a primeira nota {:.1f} e a segunda nota {:.1f} é {:.2f}'. format (x, y, media))"
      ],
      "metadata": {
        "colab": {
          "base_uri": "https://localhost:8080/"
        },
        "id": "1bQu6zGiTf5b",
        "outputId": "61f727fb-7ea1-4ad8-e7b8-7f3034da19ac"
      },
      "execution_count": null,
      "outputs": [
        {
          "output_type": "stream",
          "name": "stdout",
          "text": [
            "digite a primeira nota: 5.5\n",
            "digite a 2 nota: 2\n",
            "A media entre a primeira nota 5.5 e a segunda nota 2.0 é 3.75\n"
          ]
        }
      ]
    },
    {
      "cell_type": "code",
      "source": [
        "m = float(input('digite uma velocidade em metros: '))\n",
        "cm = m * 100\n",
        "mm = m * 100\n",
        "dm = m * 10\n",
        "dam = m / 10\n",
        "hm = m / 100\n",
        "km = m / 1000\n",
        "print('a medida de {}m, corresponde a {}cm,a {}mm, a {}dm, a{}dm, a {}hm e a {}km'. format(m, cm, mm,dm,dam,hm,km))"
      ],
      "metadata": {
        "colab": {
          "base_uri": "https://localhost:8080/"
        },
        "id": "eiWpocljW8Gq",
        "outputId": "3fd886f5-d76b-40c0-e814-210b25f984cd"
      },
      "execution_count": null,
      "outputs": [
        {
          "output_type": "stream",
          "name": "stdout",
          "text": [
            "digite uma velocidade em metros: 50\n",
            "a medida de 50.0m, corresponde a 5000.0cm,a 5000.0mm, a 500.0dm, a5.0dm, a 0.5hm e a 0.05km\n"
          ]
        }
      ]
    },
    {
      "cell_type": "code",
      "source": [
        "x = int(input('digite um numero para ver sua tabuada: '))\n",
        "print ('-'*10)\n",
        "print ('{} x {} = {}'.format(x, 1, x*1,))\n",
        "print ('{} x {} = {}'.format(x, 2, x*2))\n",
        "print ('{} x {} = {}'.format(x, 3, x*3))\n",
        "print ('{} x {} = {}'.format(x, 4, x*4))\n",
        "print ('{} x {} = {}'.format(x, 5, x*5))\n",
        "print ('{} x {} = {}'.format(x, 6, x*6))\n",
        "print ('{} x {} = {}'.format(x, 7, x*7))\n",
        "print ('{} x {} = {}'.format(x, 8, x*8))\n",
        "print ('-'*10)\n",
        "\n",
        "\n"
      ],
      "metadata": {
        "colab": {
          "base_uri": "https://localhost:8080/"
        },
        "id": "YwcWYC2NJXSv",
        "outputId": "d8e398d1-a2eb-4386-ab1e-740859e372da"
      },
      "execution_count": null,
      "outputs": [
        {
          "output_type": "stream",
          "name": "stdout",
          "text": [
            "digite um numero para ver sua tabuada: 6\n",
            "----------\n",
            "6 x 1 = 6\n",
            "6 x 2 = 12\n",
            "6 x 3 = 18\n",
            "6 x 4 = 24\n",
            "6 x 5 = 30\n",
            "6 x 6 = 36\n",
            "6 x 7 = 42\n",
            "6 x 8 = 48\n",
            "----------\n"
          ]
        }
      ]
    },
    {
      "cell_type": "code",
      "source": [
        "valor = float(input('quanto você tem na carteira?: R$ '))\n",
        "print ('com R${:.2f} você pode comprar US${:.2F}'.format(valor, (valor/5.77)))"
      ],
      "metadata": {
        "colab": {
          "base_uri": "https://localhost:8080/"
        },
        "id": "vAJQ2zyKMshE",
        "outputId": "7191d829-bf85-4278-f8a9-3ce354064c2f"
      },
      "execution_count": null,
      "outputs": [
        {
          "output_type": "stream",
          "name": "stdout",
          "text": [
            "quanto você tem na carteira?: R$ 30\n",
            "com R$30.00 você pode comprar US$5.20\n"
          ]
        }
      ]
    },
    {
      "cell_type": "code",
      "source": [
        "alt= float(input('digite a altura da aparede: m '))\n",
        "larg = float(input('digite a largura da parede: m '))\n",
        "area = alt * larg\n",
        "print ('sua parede tem a dimensão de {}x{} e sua área é de{}m'.format(alt, larg, area))\n",
        "tinta = area / 2\n",
        "print ('para pintar essa parede, você precisará de {}l de tinta'.format(tinta))\n"
      ],
      "metadata": {
        "colab": {
          "base_uri": "https://localhost:8080/"
        },
        "id": "lg-7LWUWQK4p",
        "outputId": "7c586fc6-57df-40e4-cd57-3949f4b2329c"
      },
      "execution_count": null,
      "outputs": [
        {
          "output_type": "stream",
          "name": "stdout",
          "text": [
            "digite a altura da aparede: m 10\n",
            "digite a largura da parede: m 10\n",
            "sua parede tem a dimensão de 10.0x10.0 e sua área é de100.0m\n",
            "para pintar essa parede, você precisará de 50.0l de tinta\n"
          ]
        }
      ]
    },
    {
      "cell_type": "code",
      "source": [
        "875*15/100"
      ],
      "metadata": {
        "colab": {
          "base_uri": "https://localhost:8080/"
        },
        "id": "Ajc1rC1FOWs4",
        "outputId": "b5ebef3b-2f3f-4c72-e3e1-81ac37cd22e2"
      },
      "execution_count": null,
      "outputs": [
        {
          "output_type": "execute_result",
          "data": {
            "text/plain": [
              "131.25"
            ]
          },
          "metadata": {},
          "execution_count": 3
        }
      ]
    },
    {
      "cell_type": "code",
      "source": [
        "preço =float(input('qual o preço do produto? R$ '))\n",
        "novo = preço - (preço*5/100)\n",
        "print('o produto que custava R${:.2f}, na promoção com desconto de 5% vai custar R${:.2f}'.format (preço, novo))"
      ],
      "metadata": {
        "colab": {
          "base_uri": "https://localhost:8080/"
        },
        "id": "yeAUvqLhQDE0",
        "outputId": "071c6526-2e06-439b-c0fc-833622d6668d"
      },
      "execution_count": null,
      "outputs": [
        {
          "output_type": "stream",
          "name": "stdout",
          "text": [
            "qual o preço do produto? R$ 500\n",
            "o produto que custava R$500.00, na promoção com desconto de 5% vai custar R$475.00\n"
          ]
        }
      ]
    },
    {
      "cell_type": "code",
      "source": [
        "salario = float(input('qual é o salario do funcionario? R$'))\n",
        "novo = salario + (salario * 15 / 100)\n",
        "print('um funcionario que ganhava R${:.2f}, com 15% de aumento, passa a receber R${:.2f}'.format(salario, novo))\n"
      ],
      "metadata": {
        "colab": {
          "base_uri": "https://localhost:8080/"
        },
        "id": "6zhj73NxTCJJ",
        "outputId": "2953e715-3b20-4e3f-fb8a-2dec66e9ceb6"
      },
      "execution_count": null,
      "outputs": [
        {
          "output_type": "stream",
          "name": "stdout",
          "text": [
            "qual é o salario do funcionario? R$1580\n",
            "um funcionario que ganhava R$1580.00, com 15% de aumento, passa a receber R$1817.00\n"
          ]
        }
      ]
    },
    {
      "cell_type": "code",
      "source": [
        "c = float(input('digite a temperatura em celsius:'))\n",
        "f = ((9 * c) /5) +32\n",
        "print('a temperatura em {}°C corresponde a {}°F'.format(c, f))"
      ],
      "metadata": {
        "colab": {
          "base_uri": "https://localhost:8080/"
        },
        "id": "cbw9L7aOXHs4",
        "outputId": "fb7bc25e-263a-43e7-a064-9d6a7d7ae591"
      },
      "execution_count": null,
      "outputs": [
        {
          "output_type": "stream",
          "name": "stdout",
          "text": [
            "digite a temperatura em celsius:33\n",
            "a temperatura em 33.0°C corresponde a 91.4°F\n"
          ]
        }
      ]
    },
    {
      "cell_type": "code",
      "source": [
        "!pip install PyPDF2\n"
      ],
      "metadata": {
        "colab": {
          "base_uri": "https://localhost:8080/"
        },
        "id": "1W4HrZjj8LnX",
        "outputId": "205c3cc4-9517-4a81-b76e-3fa813c2d1fc"
      },
      "execution_count": 2,
      "outputs": [
        {
          "output_type": "stream",
          "name": "stdout",
          "text": [
            "Collecting PyPDF2\n",
            "  Downloading pypdf2-3.0.1-py3-none-any.whl.metadata (6.8 kB)\n",
            "Downloading pypdf2-3.0.1-py3-none-any.whl (232 kB)\n",
            "\u001b[?25l   \u001b[90m━━━━━━━━━━━━━━━━━━━━━━━━━━━━━━━━━━━━━━━━\u001b[0m \u001b[32m0.0/232.6 kB\u001b[0m \u001b[31m?\u001b[0m eta \u001b[36m-:--:--\u001b[0m\r\u001b[2K   \u001b[91m━━━━━━━━━━━━━━━━━━━━━━━━━━━━━━━━━━━━━━\u001b[0m\u001b[91m╸\u001b[0m\u001b[90m━\u001b[0m \u001b[32m225.3/232.6 kB\u001b[0m \u001b[31m8.9 MB/s\u001b[0m eta \u001b[36m0:00:01\u001b[0m\r\u001b[2K   \u001b[90m━━━━━━━━━━━━━━━━━━━━━━━━━━━━━━━━━━━━━━━━\u001b[0m \u001b[32m232.6/232.6 kB\u001b[0m \u001b[31m6.1 MB/s\u001b[0m eta \u001b[36m0:00:00\u001b[0m\n",
            "\u001b[?25hInstalling collected packages: PyPDF2\n",
            "Successfully installed PyPDF2-3.0.1\n"
          ]
        }
      ]
    },
    {
      "cell_type": "code",
      "source": [
        " pip install python-docx"
      ],
      "metadata": {
        "colab": {
          "base_uri": "https://localhost:8080/"
        },
        "id": "xywUGN3QM8x9",
        "outputId": "f99e300d-1a1d-4303-dda1-ba2107c570ed"
      },
      "execution_count": 3,
      "outputs": [
        {
          "output_type": "stream",
          "name": "stdout",
          "text": [
            "Collecting python-docx\n",
            "  Downloading python_docx-1.1.2-py3-none-any.whl.metadata (2.0 kB)\n",
            "Requirement already satisfied: lxml>=3.1.0 in /usr/local/lib/python3.11/dist-packages (from python-docx) (5.3.1)\n",
            "Requirement already satisfied: typing-extensions>=4.9.0 in /usr/local/lib/python3.11/dist-packages (from python-docx) (4.13.0)\n",
            "Downloading python_docx-1.1.2-py3-none-any.whl (244 kB)\n",
            "\u001b[2K   \u001b[90m━━━━━━━━━━━━━━━━━━━━━━━━━━━━━━━━━━━━━━━━\u001b[0m \u001b[32m244.3/244.3 kB\u001b[0m \u001b[31m5.5 MB/s\u001b[0m eta \u001b[36m0:00:00\u001b[0m\n",
            "\u001b[?25hInstalling collected packages: python-docx\n",
            "Successfully installed python-docx-1.1.2\n"
          ]
        }
      ]
    },
    {
      "cell_type": "code",
      "source": [
        "from google.colab import files\n",
        "uploaded = files.upload()"
      ],
      "metadata": {
        "colab": {
          "base_uri": "https://localhost:8080/",
          "height": 107
        },
        "id": "PNDcRHoCssv2",
        "outputId": "20540e54-121f-463b-a4ae-8a79c6240dc7"
      },
      "execution_count": 4,
      "outputs": [
        {
          "output_type": "display_data",
          "data": {
            "text/plain": [
              "<IPython.core.display.HTML object>"
            ],
            "text/html": [
              "\n",
              "     <input type=\"file\" id=\"files-bc03b345-e328-4085-b3d4-de9f6e591e28\" name=\"files[]\" multiple disabled\n",
              "        style=\"border:none\" />\n",
              "     <output id=\"result-bc03b345-e328-4085-b3d4-de9f6e591e28\">\n",
              "      Upload widget is only available when the cell has been executed in the\n",
              "      current browser session. Please rerun this cell to enable.\n",
              "      </output>\n",
              "      <script>// Copyright 2017 Google LLC\n",
              "//\n",
              "// Licensed under the Apache License, Version 2.0 (the \"License\");\n",
              "// you may not use this file except in compliance with the License.\n",
              "// You may obtain a copy of the License at\n",
              "//\n",
              "//      http://www.apache.org/licenses/LICENSE-2.0\n",
              "//\n",
              "// Unless required by applicable law or agreed to in writing, software\n",
              "// distributed under the License is distributed on an \"AS IS\" BASIS,\n",
              "// WITHOUT WARRANTIES OR CONDITIONS OF ANY KIND, either express or implied.\n",
              "// See the License for the specific language governing permissions and\n",
              "// limitations under the License.\n",
              "\n",
              "/**\n",
              " * @fileoverview Helpers for google.colab Python module.\n",
              " */\n",
              "(function(scope) {\n",
              "function span(text, styleAttributes = {}) {\n",
              "  const element = document.createElement('span');\n",
              "  element.textContent = text;\n",
              "  for (const key of Object.keys(styleAttributes)) {\n",
              "    element.style[key] = styleAttributes[key];\n",
              "  }\n",
              "  return element;\n",
              "}\n",
              "\n",
              "// Max number of bytes which will be uploaded at a time.\n",
              "const MAX_PAYLOAD_SIZE = 100 * 1024;\n",
              "\n",
              "function _uploadFiles(inputId, outputId) {\n",
              "  const steps = uploadFilesStep(inputId, outputId);\n",
              "  const outputElement = document.getElementById(outputId);\n",
              "  // Cache steps on the outputElement to make it available for the next call\n",
              "  // to uploadFilesContinue from Python.\n",
              "  outputElement.steps = steps;\n",
              "\n",
              "  return _uploadFilesContinue(outputId);\n",
              "}\n",
              "\n",
              "// This is roughly an async generator (not supported in the browser yet),\n",
              "// where there are multiple asynchronous steps and the Python side is going\n",
              "// to poll for completion of each step.\n",
              "// This uses a Promise to block the python side on completion of each step,\n",
              "// then passes the result of the previous step as the input to the next step.\n",
              "function _uploadFilesContinue(outputId) {\n",
              "  const outputElement = document.getElementById(outputId);\n",
              "  const steps = outputElement.steps;\n",
              "\n",
              "  const next = steps.next(outputElement.lastPromiseValue);\n",
              "  return Promise.resolve(next.value.promise).then((value) => {\n",
              "    // Cache the last promise value to make it available to the next\n",
              "    // step of the generator.\n",
              "    outputElement.lastPromiseValue = value;\n",
              "    return next.value.response;\n",
              "  });\n",
              "}\n",
              "\n",
              "/**\n",
              " * Generator function which is called between each async step of the upload\n",
              " * process.\n",
              " * @param {string} inputId Element ID of the input file picker element.\n",
              " * @param {string} outputId Element ID of the output display.\n",
              " * @return {!Iterable<!Object>} Iterable of next steps.\n",
              " */\n",
              "function* uploadFilesStep(inputId, outputId) {\n",
              "  const inputElement = document.getElementById(inputId);\n",
              "  inputElement.disabled = false;\n",
              "\n",
              "  const outputElement = document.getElementById(outputId);\n",
              "  outputElement.innerHTML = '';\n",
              "\n",
              "  const pickedPromise = new Promise((resolve) => {\n",
              "    inputElement.addEventListener('change', (e) => {\n",
              "      resolve(e.target.files);\n",
              "    });\n",
              "  });\n",
              "\n",
              "  const cancel = document.createElement('button');\n",
              "  inputElement.parentElement.appendChild(cancel);\n",
              "  cancel.textContent = 'Cancel upload';\n",
              "  const cancelPromise = new Promise((resolve) => {\n",
              "    cancel.onclick = () => {\n",
              "      resolve(null);\n",
              "    };\n",
              "  });\n",
              "\n",
              "  // Wait for the user to pick the files.\n",
              "  const files = yield {\n",
              "    promise: Promise.race([pickedPromise, cancelPromise]),\n",
              "    response: {\n",
              "      action: 'starting',\n",
              "    }\n",
              "  };\n",
              "\n",
              "  cancel.remove();\n",
              "\n",
              "  // Disable the input element since further picks are not allowed.\n",
              "  inputElement.disabled = true;\n",
              "\n",
              "  if (!files) {\n",
              "    return {\n",
              "      response: {\n",
              "        action: 'complete',\n",
              "      }\n",
              "    };\n",
              "  }\n",
              "\n",
              "  for (const file of files) {\n",
              "    const li = document.createElement('li');\n",
              "    li.append(span(file.name, {fontWeight: 'bold'}));\n",
              "    li.append(span(\n",
              "        `(${file.type || 'n/a'}) - ${file.size} bytes, ` +\n",
              "        `last modified: ${\n",
              "            file.lastModifiedDate ? file.lastModifiedDate.toLocaleDateString() :\n",
              "                                    'n/a'} - `));\n",
              "    const percent = span('0% done');\n",
              "    li.appendChild(percent);\n",
              "\n",
              "    outputElement.appendChild(li);\n",
              "\n",
              "    const fileDataPromise = new Promise((resolve) => {\n",
              "      const reader = new FileReader();\n",
              "      reader.onload = (e) => {\n",
              "        resolve(e.target.result);\n",
              "      };\n",
              "      reader.readAsArrayBuffer(file);\n",
              "    });\n",
              "    // Wait for the data to be ready.\n",
              "    let fileData = yield {\n",
              "      promise: fileDataPromise,\n",
              "      response: {\n",
              "        action: 'continue',\n",
              "      }\n",
              "    };\n",
              "\n",
              "    // Use a chunked sending to avoid message size limits. See b/62115660.\n",
              "    let position = 0;\n",
              "    do {\n",
              "      const length = Math.min(fileData.byteLength - position, MAX_PAYLOAD_SIZE);\n",
              "      const chunk = new Uint8Array(fileData, position, length);\n",
              "      position += length;\n",
              "\n",
              "      const base64 = btoa(String.fromCharCode.apply(null, chunk));\n",
              "      yield {\n",
              "        response: {\n",
              "          action: 'append',\n",
              "          file: file.name,\n",
              "          data: base64,\n",
              "        },\n",
              "      };\n",
              "\n",
              "      let percentDone = fileData.byteLength === 0 ?\n",
              "          100 :\n",
              "          Math.round((position / fileData.byteLength) * 100);\n",
              "      percent.textContent = `${percentDone}% done`;\n",
              "\n",
              "    } while (position < fileData.byteLength);\n",
              "  }\n",
              "\n",
              "  // All done.\n",
              "  yield {\n",
              "    response: {\n",
              "      action: 'complete',\n",
              "    }\n",
              "  };\n",
              "}\n",
              "\n",
              "scope.google = scope.google || {};\n",
              "scope.google.colab = scope.google.colab || {};\n",
              "scope.google.colab._files = {\n",
              "  _uploadFiles,\n",
              "  _uploadFilesContinue,\n",
              "};\n",
              "})(self);\n",
              "</script> "
            ]
          },
          "metadata": {}
        },
        {
          "output_type": "stream",
          "name": "stdout",
          "text": [
            "Saving dados.pdf to dados.pdf\n",
            "Saving dados.docx to dados.docx\n"
          ]
        }
      ]
    },
    {
      "cell_type": "code",
      "source": [
        "import os  # Importa o módulo \"os\" para lidar com operações no sistema operacional.\n",
        "import PyPDF2  # Importa o módulo \"PyPDF2\" para manipular arquivos PDF.\n",
        "from docx import Document  # Importa a classe \"Document\" para manipular arquivos DOCX.\n",
        "\n",
        "caminho_pdf = \"dados.pdf\"  # Define o caminho do arquivo PDF.\n",
        "caminho_docx = \"dados.docx\"  # Define o caminho do arquivo DOCX.\n",
        "\n",
        "numeros = []  # Lista para armazenar os números encontrados.\n",
        "\n",
        "# Processa o arquivo PDF, se existir.\n",
        "if os.path.exists(caminho_pdf):\n",
        "    arquivo = open(caminho_pdf, \"rb\")  # Abre o arquivo PDF no modo de leitura binária.\n",
        "    leitor_pdf = PyPDF2.PdfReader(arquivo)  # Cria um objeto leitor para o PDF.\n",
        "\n",
        "    for pagina in leitor_pdf.pages:  # Itera pelas páginas do PDF.\n",
        "        texto = pagina.extract_text()  # Extrai o texto da página.\n",
        "        linhas = texto.split('\\n')  # Divide o texto extraído em linhas.\n",
        "\n",
        "        for linha in linhas:  # Procura por números inteiros nas linhas.\n",
        "            if linha.strip().isdigit():  # Verifica se a linha contém apenas números.\n",
        "                numeros.append(int(linha.strip()))  # Converte e adiciona os números à lista.\n",
        "\n",
        "    arquivo.close()  # Fecha o arquivo PDF.\n",
        "else:\n",
        "    print(\"Arquivo PDF não encontrado.\")\n",
        "\n",
        "# Processa o arquivo DOCX, se existir.\n",
        "if os.path.exists(caminho_docx):\n",
        "    documento = Document(caminho_docx)  # Abre o arquivo DOCX.\n",
        "\n",
        "    for paragrafo in documento.paragraphs:  # Itera pelos parágrafos do documento.\n",
        "        texto = paragrafo.text.strip()  # Obtém o texto do parágrafo.\n",
        "\n",
        "        if texto.isdigit():  # Verifica se o parágrafo contém apenas números.\n",
        "            numeros.append(int(texto))  # Adiciona os números à lista.\n",
        "else:\n",
        "    print(\"Arquivo DOCX não encontrado.\")\n",
        "\n",
        "# Processa os números encontrados e calcula estatísticas.\n",
        "if len(numeros) > 0:\n",
        "    numeros.sort()  # Ordena os números em ordem crescente.\n",
        "    soma = sum(numeros)  # Calcula a soma dos números.\n",
        "    media = soma / len(numeros)  # Calcula a média dos números.\n",
        "\n",
        "    # Calcula a mediana dependendo do tamanho da lista.\n",
        "    if len(numeros) % 2 == 0:\n",
        "        meio = len(numeros) // 2\n",
        "        mediana = (numeros[meio - 1] + numeros[meio]) / 2\n",
        "    else:\n",
        "        mediana = numeros[len(numeros) // 2]\n",
        "\n",
        "    # Exibe os resultados.\n",
        "    print(\"Números encontrados:\", numeros)\n",
        "    print(\"Média:\", media)\n",
        "    print(\"Mediana:\", mediana)\n",
        "    print(\"Soma:\", soma)\n",
        "    print(\"Maior valor:\", max(numeros))\n",
        "    print(\"Menor valor:\", min(numeros))\n",
        "else:\n",
        "    print(\"Os arquivos estão vazios ou não contêm números válidos.\")"
      ],
      "metadata": {
        "colab": {
          "base_uri": "https://localhost:8080/"
        },
        "id": "pSjvlVclO6AI",
        "outputId": "83feebbf-ccff-453c-989e-5c277e308902"
      },
      "execution_count": 5,
      "outputs": [
        {
          "output_type": "stream",
          "name": "stdout",
          "text": [
            "Números encontrados: [2, 2, 4, 4, 6, 6, 7, 7, 10, 10, 31, 31, 77, 77]\n",
            "Média: 19.571428571428573\n",
            "Mediana: 7.0\n",
            "Soma: 274\n",
            "Maior valor: 77\n",
            "Menor valor: 2\n"
          ]
        }
      ]
    }
  ]
}